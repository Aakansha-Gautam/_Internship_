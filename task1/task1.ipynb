{
 "cells": [
  {
   "cell_type": "code",
   "execution_count": null,
   "metadata": {},
   "outputs": [],
   "source": [
    "import pandas as pd\n",
    "import numpy as np\n",
    "import os"
   ]
  },
  {
   "cell_type": "code",
   "execution_count": null,
   "metadata": {},
   "outputs": [],
   "source": [
    "os.chdir('C:\\\\Users\\\\aakan\\\\OneDrive\\\\Desktop\\\\_Internship_\\\\task1')"
   ]
  },
  {
   "cell_type": "code",
   "execution_count": null,
   "metadata": {},
   "outputs": [],
   "source": [
    "df = pd.DataFrame([])"
   ]
  },
  {
   "cell_type": "code",
   "execution_count": null,
   "metadata": {},
   "outputs": [],
   "source": [
    "for root, dirs, files in os.walk(\".\"):\n",
    "   for name in files:\n",
    "       df_temp = pd.read_csv(name)\n",
    "       df = pd.concat([df,df_temp])\n",
    "\n",
    "# Save df to a CSV file\n",
    "df.to_csv('combined.csv')"
   ]
  },
  {
   "cell_type": "code",
   "execution_count": null,
   "metadata": {},
   "outputs": [],
   "source": [
    "df1=pd.read_csv('./combined.csv')"
   ]
  },
  {
   "cell_type": "code",
   "execution_count": null,
   "metadata": {},
   "outputs": [],
   "source": [
    "df1.head()"
   ]
  },
  {
   "cell_type": "code",
   "execution_count": null,
   "metadata": {},
   "outputs": [],
   "source": [
    "first_value=df1.iloc[0].Search_Query"
   ]
  },
  {
   "cell_type": "code",
   "execution_count": null,
   "metadata": {},
   "outputs": [],
   "source": [
    "df2 = df1.stack().reset_index()\n",
    "df2= df2.rename(columns={'level_0': 'Index','level_1':'Topic', 0: 'Value'})\n",
    "df.head()"
   ]
  },
  {
   "cell_type": "code",
   "execution_count": null,
   "metadata": {},
   "outputs": [],
   "source": [
    "column_length=df1.columns[:]\n",
    "column_length\n",
    "c_l=len(column_length)\n",
    "print(c_l)"
   ]
  },
  {
   "cell_type": "code",
   "execution_count": null,
   "metadata": {},
   "outputs": [],
   "source": [
    "loc_index=0\n",
    "i=0\n",
    "j=1\n",
    "k=1\n",
    "indexing=[]\n",
    "first_value=df1.iloc[0].Search_Query\n",
    "\n",
    "\n",
    "for ind in range(len(df2.index)-1):\n",
    "    val=df2.Index.loc[ind]\n",
    "    i+=1\n",
    "    compare=first_value!=df1['Search_Query']\n",
    "    if(compare.all()):\n",
    "       j+=1\n",
    "    for a in range (1,c_l+1):\n",
    "        indexing.append(str(j)+\".\"+str(i)+\".\"+str(a))"
   ]
  },
  {
   "cell_type": "code",
   "execution_count": null,
   "metadata": {},
   "outputs": [],
   "source": [
    "df2['Index']=pd.Series(indexing)"
   ]
  },
  {
   "cell_type": "code",
   "execution_count": null,
   "metadata": {},
   "outputs": [],
   "source": [
    "df2.head()"
   ]
  },
  {
   "cell_type": "code",
   "execution_count": null,
   "metadata": {},
   "outputs": [],
   "source": [
    "df2.to_csv(\"index.csv\",index=False)"
   ]
  },
  {
   "cell_type": "code",
   "execution_count": null,
   "metadata": {},
   "outputs": [],
   "source": []
  }
 ],
 "metadata": {
  "kernelspec": {
   "display_name": "environmrnt",
   "language": "python",
   "name": "python3"
  },
  "language_info": {
   "name": "python",
   "version": "3.10.4 (tags/v3.10.4:9d38120, Mar 23 2022, 23:13:41) [MSC v.1929 64 bit (AMD64)]"
  },
  "orig_nbformat": 4,
  "vscode": {
   "interpreter": {
    "hash": "dfeedbbb535a6a38259d27edc3e08a7a1d94dc2baa82617fe8e19a58ce24ae94"
   }
  }
 },
 "nbformat": 4,
 "nbformat_minor": 2
}
