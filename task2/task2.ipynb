{
 "cells": [
  {
   "cell_type": "code",
   "execution_count": 1,
   "metadata": {},
   "outputs": [],
   "source": [
    "import pandas as pd\n",
    "import numpy as np"
   ]
  },
  {
   "cell_type": "code",
   "execution_count": 2,
   "metadata": {},
   "outputs": [],
   "source": [
    "df=pd.read_csv('./task2.csv')"
   ]
  },
  {
   "cell_type": "code",
   "execution_count": 3,
   "metadata": {},
   "outputs": [
    {
     "data": {
      "text/html": [
       "<div>\n",
       "<style scoped>\n",
       "    .dataframe tbody tr th:only-of-type {\n",
       "        vertical-align: middle;\n",
       "    }\n",
       "\n",
       "    .dataframe tbody tr th {\n",
       "        vertical-align: top;\n",
       "    }\n",
       "\n",
       "    .dataframe thead th {\n",
       "        text-align: right;\n",
       "    }\n",
       "</style>\n",
       "<table border=\"1\" class=\"dataframe\">\n",
       "  <thead>\n",
       "    <tr style=\"text-align: right;\">\n",
       "      <th></th>\n",
       "      <th>Search_Query</th>\n",
       "      <th>Title</th>\n",
       "      <th>Price</th>\n",
       "      <th>Link</th>\n",
       "    </tr>\n",
       "  </thead>\n",
       "  <tbody>\n",
       "    <tr>\n",
       "      <th>0</th>\n",
       "      <td>pandas</td>\n",
       "      <td>Wall Sticker for Living Room - Panda Playing o...</td>\n",
       "      <td>449</td>\n",
       "      <td>https://www.daraz.com.np/products/wall-sticker...</td>\n",
       "    </tr>\n",
       "    <tr>\n",
       "      <th>1</th>\n",
       "      <td>pandas</td>\n",
       "      <td>Panda Bear cute funny Vinyl Decal Sticker ligh...</td>\n",
       "      <td>163</td>\n",
       "      <td>https://www.daraz.com.np/products/panda-bear-c...</td>\n",
       "    </tr>\n",
       "    <tr>\n",
       "      <th>2</th>\n",
       "      <td>pandas</td>\n",
       "      <td>Baby Panda Sleeping on Moon Wall Sticker 65cm(...</td>\n",
       "      <td>450</td>\n",
       "      <td>https://www.daraz.com.np/products/baby-panda-s...</td>\n",
       "    </tr>\n",
       "    <tr>\n",
       "      <th>3</th>\n",
       "      <td>pandas</td>\n",
       "      <td>Panda Boy on Rainbow and 90 Stars Wall Sticker...</td>\n",
       "      <td>450</td>\n",
       "      <td>https://www.daraz.com.np/products/panda-boy-on...</td>\n",
       "    </tr>\n",
       "    <tr>\n",
       "      <th>4</th>\n",
       "      <td>pandas</td>\n",
       "      <td>Baby And Children's Cute Animals Wall Stickers...</td>\n",
       "      <td>899</td>\n",
       "      <td>https://www.daraz.com.np/products/baby-and-chi...</td>\n",
       "    </tr>\n",
       "  </tbody>\n",
       "</table>\n",
       "</div>"
      ],
      "text/plain": [
       "  Search_Query                                              Title Price  \\\n",
       "0       pandas  Wall Sticker for Living Room - Panda Playing o...   449   \n",
       "1       pandas  Panda Bear cute funny Vinyl Decal Sticker ligh...   163   \n",
       "2       pandas  Baby Panda Sleeping on Moon Wall Sticker 65cm(...   450   \n",
       "3       pandas  Panda Boy on Rainbow and 90 Stars Wall Sticker...   450   \n",
       "4       pandas  Baby And Children's Cute Animals Wall Stickers...   899   \n",
       "\n",
       "                                                Link  \n",
       "0  https://www.daraz.com.np/products/wall-sticker...  \n",
       "1  https://www.daraz.com.np/products/panda-bear-c...  \n",
       "2  https://www.daraz.com.np/products/baby-panda-s...  \n",
       "3  https://www.daraz.com.np/products/panda-boy-on...  \n",
       "4  https://www.daraz.com.np/products/baby-and-chi...  "
      ]
     },
     "execution_count": 3,
     "metadata": {},
     "output_type": "execute_result"
    }
   ],
   "source": [
    "df.head()"
   ]
  },
  {
   "cell_type": "code",
   "execution_count": 4,
   "metadata": {},
   "outputs": [
    {
     "data": {
      "text/plain": [
       "numpy.int64"
      ]
     },
     "execution_count": 4,
     "metadata": {},
     "output_type": "execute_result"
    }
   ],
   "source": [
    "df[\"Price\"] = df[\"Price\"].str.replace(\",\",\"\")\n",
    "df[\"Price\"] = df[\"Price\"].astype(np.int64)\n",
    "type(df[\"Price\"][0])"
   ]
  },
  {
   "cell_type": "code",
   "execution_count": 5,
   "metadata": {},
   "outputs": [],
   "source": [
    "df.sort_values(by=\"Price\",inplace=True)"
   ]
  },
  {
   "cell_type": "code",
   "execution_count": 6,
   "metadata": {},
   "outputs": [
    {
     "data": {
      "text/plain": [
       "Search_Query                                               pandas\n",
       "Title           Panda Bear cute funny Vinyl Decal Sticker ligh...\n",
       "Price                                                         163\n",
       "Link            https://www.daraz.com.np/products/panda-bear-c...\n",
       "Name: 1, dtype: object"
      ]
     },
     "execution_count": 6,
     "metadata": {},
     "output_type": "execute_result"
    }
   ],
   "source": [
    "df.iloc[1]"
   ]
  },
  {
   "cell_type": "code",
   "execution_count": 7,
   "metadata": {},
   "outputs": [
    {
     "data": {
      "text/plain": [
       "Search_Query                                               pandas\n",
       "Title                      4 feet Korean Teddy Panda For Everyone\n",
       "Price                                                        4850\n",
       "Link            https://www.daraz.com.np/products/4-feet-korea...\n",
       "Name: 20, dtype: object"
      ]
     },
     "execution_count": 7,
     "metadata": {},
     "output_type": "execute_result"
    }
   ],
   "source": [
    "df.iloc[-1]"
   ]
  },
  {
   "cell_type": "code",
   "execution_count": 8,
   "metadata": {},
   "outputs": [],
   "source": [
    "first_value=df.iloc[0].Search_Query"
   ]
  },
  {
   "cell_type": "code",
   "execution_count": 9,
   "metadata": {},
   "outputs": [
    {
     "data": {
      "text/html": [
       "<div>\n",
       "<style scoped>\n",
       "    .dataframe tbody tr th:only-of-type {\n",
       "        vertical-align: middle;\n",
       "    }\n",
       "\n",
       "    .dataframe tbody tr th {\n",
       "        vertical-align: top;\n",
       "    }\n",
       "\n",
       "    .dataframe thead th {\n",
       "        text-align: right;\n",
       "    }\n",
       "</style>\n",
       "<table border=\"1\" class=\"dataframe\">\n",
       "  <thead>\n",
       "    <tr style=\"text-align: right;\">\n",
       "      <th></th>\n",
       "      <th>Search_Query</th>\n",
       "      <th>Title</th>\n",
       "      <th>Price</th>\n",
       "      <th>Link</th>\n",
       "    </tr>\n",
       "  </thead>\n",
       "  <tbody>\n",
       "    <tr>\n",
       "      <th>15</th>\n",
       "      <td>pandas</td>\n",
       "      <td>Panda Riding A Bicycle Home Decor/ Wall Sticke...</td>\n",
       "      <td>149</td>\n",
       "      <td>https://www.daraz.com.np/products/panda-riding...</td>\n",
       "    </tr>\n",
       "    <tr>\n",
       "      <th>1</th>\n",
       "      <td>pandas</td>\n",
       "      <td>Panda Bear cute funny Vinyl Decal Sticker ligh...</td>\n",
       "      <td>163</td>\n",
       "      <td>https://www.daraz.com.np/products/panda-bear-c...</td>\n",
       "    </tr>\n",
       "    <tr>\n",
       "      <th>34</th>\n",
       "      <td>pandas</td>\n",
       "      <td>Elephant(small)</td>\n",
       "      <td>300</td>\n",
       "      <td>https://www.daraz.com.np/products/elephantsmal...</td>\n",
       "    </tr>\n",
       "    <tr>\n",
       "      <th>37</th>\n",
       "      <td>pandas</td>\n",
       "      <td>Panda Soft Stuffed Toy</td>\n",
       "      <td>385</td>\n",
       "      <td>https://www.daraz.com.np/products/panda-soft-s...</td>\n",
       "    </tr>\n",
       "    <tr>\n",
       "      <th>8</th>\n",
       "      <td>pandas</td>\n",
       "      <td>Lovely Cartoon Cat Panda Puppy Animals Removab...</td>\n",
       "      <td>397</td>\n",
       "      <td>https://www.daraz.com.np/products/lovely-carto...</td>\n",
       "    </tr>\n",
       "  </tbody>\n",
       "</table>\n",
       "</div>"
      ],
      "text/plain": [
       "   Search_Query                                              Title  Price  \\\n",
       "15       pandas  Panda Riding A Bicycle Home Decor/ Wall Sticke...    149   \n",
       "1        pandas  Panda Bear cute funny Vinyl Decal Sticker ligh...    163   \n",
       "34       pandas                                    Elephant(small)    300   \n",
       "37       pandas                             Panda Soft Stuffed Toy    385   \n",
       "8        pandas  Lovely Cartoon Cat Panda Puppy Animals Removab...    397   \n",
       "\n",
       "                                                 Link  \n",
       "15  https://www.daraz.com.np/products/panda-riding...  \n",
       "1   https://www.daraz.com.np/products/panda-bear-c...  \n",
       "34  https://www.daraz.com.np/products/elephantsmal...  \n",
       "37  https://www.daraz.com.np/products/panda-soft-s...  \n",
       "8   https://www.daraz.com.np/products/lovely-carto...  "
      ]
     },
     "execution_count": 9,
     "metadata": {},
     "output_type": "execute_result"
    }
   ],
   "source": [
    "df2 = df.stack().reset_index()\n",
    "df2= df2.rename(columns={'level_0': 'Index','level_1':'Topic', 0: 'Value'})\n",
    "df.head()"
   ]
  },
  {
   "cell_type": "code",
   "execution_count": 10,
   "metadata": {},
   "outputs": [
    {
     "name": "stdout",
     "output_type": "stream",
     "text": [
      "4\n"
     ]
    }
   ],
   "source": [
    "column_length=df.columns[:]\n",
    "column_length\n",
    "c_l=len(column_length)\n",
    "print(c_l)"
   ]
  },
  {
   "cell_type": "code",
   "execution_count": 11,
   "metadata": {},
   "outputs": [],
   "source": [
    "\n",
    "df2.drop(df2.loc[df2['Topic']==\"index\"].index, inplace=True)"
   ]
  },
  {
   "cell_type": "code",
   "execution_count": 12,
   "metadata": {},
   "outputs": [
    {
     "data": {
      "text/plain": [
       "15"
      ]
     },
     "execution_count": 12,
     "metadata": {},
     "output_type": "execute_result"
    }
   ],
   "source": [
    "df2\n",
    "df2.Index.loc[0]"
   ]
  },
  {
   "cell_type": "code",
   "execution_count": 13,
   "metadata": {},
   "outputs": [],
   "source": [
    "loc_index=0\n",
    "i=0\n",
    "j=1\n",
    "k=1\n",
    "indexing=[]\n",
    "first_value=df.iloc[0].Search_Query\n",
    "\n",
    "\n",
    "for ind in range(len(df2.index)-1):\n",
    "    val=df2.Index.loc[ind]\n",
    "    i+=1\n",
    "    compare=first_value!=df['Search_Query']\n",
    "    if(compare.all()):\n",
    "       j+=1\n",
    "    for a in range (1,c_l+1):\n",
    "        indexing.append(str(j)+\".\"+str(i)+\".\"+str(a))\n",
    "            "
   ]
  },
  {
   "cell_type": "code",
   "execution_count": 14,
   "metadata": {},
   "outputs": [],
   "source": [
    "df2['Index']=pd.Series(indexing)"
   ]
  },
  {
   "cell_type": "code",
   "execution_count": 15,
   "metadata": {},
   "outputs": [
    {
     "data": {
      "text/html": [
       "<div>\n",
       "<style scoped>\n",
       "    .dataframe tbody tr th:only-of-type {\n",
       "        vertical-align: middle;\n",
       "    }\n",
       "\n",
       "    .dataframe tbody tr th {\n",
       "        vertical-align: top;\n",
       "    }\n",
       "\n",
       "    .dataframe thead th {\n",
       "        text-align: right;\n",
       "    }\n",
       "</style>\n",
       "<table border=\"1\" class=\"dataframe\">\n",
       "  <thead>\n",
       "    <tr style=\"text-align: right;\">\n",
       "      <th></th>\n",
       "      <th>Index</th>\n",
       "      <th>Topic</th>\n",
       "      <th>Value</th>\n",
       "    </tr>\n",
       "  </thead>\n",
       "  <tbody>\n",
       "    <tr>\n",
       "      <th>0</th>\n",
       "      <td>1.1.1</td>\n",
       "      <td>Search_Query</td>\n",
       "      <td>pandas</td>\n",
       "    </tr>\n",
       "    <tr>\n",
       "      <th>1</th>\n",
       "      <td>1.1.2</td>\n",
       "      <td>Title</td>\n",
       "      <td>Panda Riding A Bicycle Home Decor/ Wall Sticke...</td>\n",
       "    </tr>\n",
       "    <tr>\n",
       "      <th>2</th>\n",
       "      <td>1.1.3</td>\n",
       "      <td>Price</td>\n",
       "      <td>149</td>\n",
       "    </tr>\n",
       "    <tr>\n",
       "      <th>3</th>\n",
       "      <td>1.1.4</td>\n",
       "      <td>Link</td>\n",
       "      <td>https://www.daraz.com.np/products/panda-riding...</td>\n",
       "    </tr>\n",
       "    <tr>\n",
       "      <th>4</th>\n",
       "      <td>1.2.1</td>\n",
       "      <td>Search_Query</td>\n",
       "      <td>pandas</td>\n",
       "    </tr>\n",
       "  </tbody>\n",
       "</table>\n",
       "</div>"
      ],
      "text/plain": [
       "   Index         Topic                                              Value\n",
       "0  1.1.1  Search_Query                                             pandas\n",
       "1  1.1.2         Title  Panda Riding A Bicycle Home Decor/ Wall Sticke...\n",
       "2  1.1.3         Price                                                149\n",
       "3  1.1.4          Link  https://www.daraz.com.np/products/panda-riding...\n",
       "4  1.2.1  Search_Query                                             pandas"
      ]
     },
     "execution_count": 15,
     "metadata": {},
     "output_type": "execute_result"
    }
   ],
   "source": [
    "df2.head()"
   ]
  },
  {
   "cell_type": "code",
   "execution_count": 16,
   "metadata": {},
   "outputs": [],
   "source": [
    "df2.to_csv(\"index.csv\",index=False)"
   ]
  },
  {
   "cell_type": "code",
   "execution_count": null,
   "metadata": {},
   "outputs": [],
   "source": []
  }
 ],
 "metadata": {
  "kernelspec": {
   "display_name": "environmrnt",
   "language": "python",
   "name": "python3"
  },
  "language_info": {
   "codemirror_mode": {
    "name": "ipython",
    "version": 3
   },
   "file_extension": ".py",
   "mimetype": "text/x-python",
   "name": "python",
   "nbconvert_exporter": "python",
   "pygments_lexer": "ipython3",
   "version": "3.10.4"
  },
  "orig_nbformat": 4,
  "vscode": {
   "interpreter": {
    "hash": "dfeedbbb535a6a38259d27edc3e08a7a1d94dc2baa82617fe8e19a58ce24ae94"
   }
  }
 },
 "nbformat": 4,
 "nbformat_minor": 2
}
