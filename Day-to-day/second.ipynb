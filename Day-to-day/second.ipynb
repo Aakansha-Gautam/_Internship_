{
 "cells": [
  {
   "cell_type": "code",
   "execution_count": 2,
   "metadata": {},
   "outputs": [],
   "source": [
    "import pandas as pd\n",
    "import seaborn as sns\n",
    "sns.set(color_codes=True)"
   ]
  },
  {
   "cell_type": "code",
   "execution_count": 3,
   "metadata": {},
   "outputs": [],
   "source": [
    "df=pd.read_csv(\"internet_session.csv\")"
   ]
  },
  {
   "cell_type": "code",
   "execution_count": 4,
   "metadata": {},
   "outputs": [
    {
     "name": "stdout",
     "output_type": "stream",
     "text": [
      "<class 'pandas.core.frame.DataFrame'>\n",
      "RangeIndex: 4712 entries, 0 to 4711\n",
      "Data columns (total 9 columns):\n",
      " #   Column                 Non-Null Count  Dtype  \n",
      "---  ------                 --------------  -----  \n",
      " 0   name                   4712 non-null   object \n",
      " 1   start_time             4712 non-null   object \n",
      " 2   usage_time             4712 non-null   object \n",
      " 3   IP                     4712 non-null   object \n",
      " 4   MAC                    4712 non-null   object \n",
      " 5   upload                 4712 non-null   object \n",
      " 6   download               4712 non-null   object \n",
      " 7   total_transfer         4712 non-null   float64\n",
      " 8   seession_break_reason  4703 non-null   object \n",
      "dtypes: float64(1), object(8)\n",
      "memory usage: 331.4+ KB\n"
     ]
    }
   ],
   "source": [
    "df.info()"
   ]
  },
  {
   "cell_type": "code",
   "execution_count": 7,
   "metadata": {},
   "outputs": [],
   "source": [
    "# sns.barplot(df['start_time'])\n",
    "# can be used with either interger or float\n"
   ]
  },
  {
   "cell_type": "code",
   "execution_count": null,
   "metadata": {},
   "outputs": [],
   "source": []
  }
 ],
 "metadata": {
  "kernelspec": {
   "display_name": "Python 3.10.4 ('Newenv': venv)",
   "language": "python",
   "name": "python3"
  },
  "language_info": {
   "codemirror_mode": {
    "name": "ipython",
    "version": 3
   },
   "file_extension": ".py",
   "mimetype": "text/x-python",
   "name": "python",
   "nbconvert_exporter": "python",
   "pygments_lexer": "ipython3",
   "version": "3.10.4"
  },
  "orig_nbformat": 4,
  "vscode": {
   "interpreter": {
    "hash": "349898c98ce3bc130c16a321a5c9faada320e6582c0b5474edb4520321606c0c"
   }
  }
 },
 "nbformat": 4,
 "nbformat_minor": 2
}
